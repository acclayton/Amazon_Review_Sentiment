{
 "cells": [
  {
   "cell_type": "markdown",
   "metadata": {},
   "source": [
    "# Amazon Review Sentiment Analysis\n",
    "\n",
    "### Marissa Shand (mes7jt), Cory Clayton (acc2ds), Michael Pajewski (mtp9k), Jordan Machita (jm8ux)"
   ]
  },
  {
   "cell_type": "code",
   "execution_count": 1,
   "metadata": {},
   "outputs": [],
   "source": [
    "## Import statements\n",
    "import pandas as pd\n",
    "import numpy as np\n",
    "import requests\n",
    "import json\n",
    "import sys\n",
    "import os\n",
    "import matplotlib.pyplot as plt\n",
    "import seaborn as sns\n",
    "from pyspark.sql import functions as F\n",
    "from pyspark.sql import SparkSession\n",
    "from pyspark import SparkContext\n",
    "from pyspark.sql.functions import col, asc, desc\n",
    "from pyspark.sql.types import *\n",
    "from pyspark.sql.functions import ltrim,rtrim,trim\n",
    "from pyspark.ml.feature import HashingTF, IDF, Tokenizer, StopWordsRemover\n",
    "from pyspark.ml import Pipeline\n",
    "from pyspark.sql.functions import size, expr\n",
    "from pyspark.mllib.evaluation import MulticlassMetrics"
   ]
  },
  {
   "cell_type": "markdown",
   "metadata": {},
   "source": [
    "# Import the Data\n",
    "\n",
    "For this project, we are using Amazon Grocery and Gourmet Food reviews. "
   ]
  },
  {
   "cell_type": "code",
   "execution_count": 2,
   "metadata": {},
   "outputs": [
    {
     "name": "stdout",
     "output_type": "stream",
     "text": [
      "root\n",
      " |-- asin: string (nullable = true)\n",
      " |-- image: array (nullable = true)\n",
      " |    |-- element: string (containsNull = true)\n",
      " |-- overall: double (nullable = true)\n",
      " |-- reviewText: string (nullable = true)\n",
      " |-- reviewTime: string (nullable = true)\n",
      " |-- reviewerID: string (nullable = true)\n",
      " |-- reviewerName: string (nullable = true)\n",
      " |-- style: struct (nullable = true)\n",
      " |    |-- Color:: string (nullable = true)\n",
      " |    |-- Design:: string (nullable = true)\n",
      " |    |-- Display Height:: string (nullable = true)\n",
      " |    |-- Edition:: string (nullable = true)\n",
      " |    |-- Flavor Name:: string (nullable = true)\n",
      " |    |-- Flavor:: string (nullable = true)\n",
      " |    |-- Format:: string (nullable = true)\n",
      " |    |-- Item Display Weight:: string (nullable = true)\n",
      " |    |-- Item Package Quantity:: string (nullable = true)\n",
      " |    |-- Material Type:: string (nullable = true)\n",
      " |    |-- Material:: string (nullable = true)\n",
      " |    |-- Number of Items:: string (nullable = true)\n",
      " |    |-- Package Quantity:: string (nullable = true)\n",
      " |    |-- Package Type:: string (nullable = true)\n",
      " |    |-- Product Packaging:: string (nullable = true)\n",
      " |    |-- Scent Name:: string (nullable = true)\n",
      " |    |-- Size Name:: string (nullable = true)\n",
      " |    |-- Size:: string (nullable = true)\n",
      " |    |-- Style Name:: string (nullable = true)\n",
      " |    |-- Style:: string (nullable = true)\n",
      " |    |-- Team Name:: string (nullable = true)\n",
      " |    |-- Unit Count:: string (nullable = true)\n",
      " |-- summary: string (nullable = true)\n",
      " |-- unixReviewTime: long (nullable = true)\n",
      " |-- verified: boolean (nullable = true)\n",
      " |-- vote: string (nullable = true)\n",
      "\n"
     ]
    }
   ],
   "source": [
    "file_name = \"/project/ds5559/Amazon_Data_DS5559_mtp9k/Grocery_and_Gourmet_Food.json\"\n",
    "sc = SparkContext.getOrCreate()\n",
    "spark = SparkSession.builder.appName(\"Amazon Grocery Reviews\").getOrCreate()\n",
    "amazon_food = spark.read.json(file_name)\n",
    "amazon_food.printSchema()"
   ]
  },
  {
   "cell_type": "code",
   "execution_count": 3,
   "metadata": {},
   "outputs": [],
   "source": [
    "## Select the variables we are interested in\n",
    "food = amazon_food.select(\"asin\", \"reviewerID\", \"reviewText\", \"summary\", \"reviewTime\", \"verified\", \"overall\")"
   ]
  },
  {
   "cell_type": "markdown",
   "metadata": {},
   "source": [
    "# Exploratory Data Analysis (EDA)"
   ]
  },
  {
   "cell_type": "markdown",
   "metadata": {},
   "source": [
    "## Statistical Summary"
   ]
  },
  {
   "cell_type": "code",
   "execution_count": 4,
   "metadata": {},
   "outputs": [
    {
     "name": "stdout",
     "output_type": "stream",
     "text": [
      "Number of records: 5074160\n",
      "\n",
      "Number of columns: 7\n"
     ]
    }
   ],
   "source": [
    "## Number of records\n",
    "print(f\"Number of records: {food.count()}\")\n",
    "\n",
    "## Number of columns\n",
    "print(f\"\\nNumber of columns: {len(food.columns)}\")"
   ]
  },
  {
   "cell_type": "code",
   "execution_count": 5,
   "metadata": {},
   "outputs": [
    {
     "name": "stdout",
     "output_type": "stream",
     "text": [
      "\n",
      "Statistical summary of response variable\n",
      "+-------+------------------+\n",
      "|summary|           overall|\n",
      "+-------+------------------+\n",
      "|  count|           5074160|\n",
      "|   mean| 4.314708247276396|\n",
      "| stddev|1.2493033560071545|\n",
      "|    min|               1.0|\n",
      "|    max|               5.0|\n",
      "+-------+------------------+\n",
      "\n"
     ]
    }
   ],
   "source": [
    "## Statistical summary of response variable\n",
    "print(\"\\nStatistical summary of response variable\")\n",
    "food.describe(\"overall\").show()"
   ]
  },
  {
   "cell_type": "code",
   "execution_count": 6,
   "metadata": {},
   "outputs": [
    {
     "name": "stdout",
     "output_type": "stream",
     "text": [
      "Statistical Summaries of Predictor Variables:\n",
      "Product ID (asin)\n",
      "283507 unique asin values\n",
      "+----------+-----+-------------------+\n",
      "|      asin|count|         percentage|\n",
      "+----------+-----+-------------------+\n",
      "|B00BUKL666|11526| 0.2271508978826052|\n",
      "|B00542YXFW| 9083| 0.1790049978715689|\n",
      "|B008QMX2SG| 8903|0.17545761268860266|\n",
      "|B00D3M2QP4| 8880| 0.1750043356930014|\n",
      "|B000YN2GVY| 7400| 0.1458369464108345|\n",
      "|B000X3TPHS| 7310| 0.1440632538193514|\n",
      "|B01E5XTW24| 7001|  0.137973575921926|\n",
      "|B000F4DKAI| 6862|0.13523420625285762|\n",
      "|B0001LO3FG| 6858|0.13515537547101392|\n",
      "|B000EVMNMI| 6323|0.12461175839941979|\n",
      "+----------+-----+-------------------+\n",
      "only showing top 10 rows\n",
      "\n",
      "\n",
      "Reviewer ID (reviewerID)\n",
      "2695974 unique values\n",
      "+--------------+-----+--------------------+\n",
      "|    reviewerID|count|          percentage|\n",
      "+--------------+-----+--------------------+\n",
      "|  A1LACH6MLQWZ| 1103|0.021737588093398708|\n",
      "|A1GQAKL9CGQLP1|  690|0.013598309868037272|\n",
      "|A2GJX2KCUSR0EI|  588|0.011588124931023066|\n",
      "|A2C9XE9I8RSKNX|  500| 0.00985384773046179|\n",
      "|A2Q7DE6NA7VKAJ|  493|0.009715893862235326|\n",
      "| AY12DBB0U420B|  456|0.008986709130181153|\n",
      "|A2NYK9KWFMJV4Y|  421|0.008296939789048828|\n",
      "|A2PF64RBR1G1SZ|  418|0.008237816702666058|\n",
      "|A2XKJ1KX6XUHYP|  392|0.007725416620682...|\n",
      "|A3OXHLG6DIBRW8|  390|0.007686001229760197|\n",
      "+--------------+-----+--------------------+\n",
      "only showing top 10 rows\n",
      "\n",
      "\n",
      "Review Text (reviewText)\n",
      "4181958 unique values\n",
      "+-------------+-----+-------------------+\n",
      "|   reviewText|count|         percentage|\n",
      "+-------------+-----+-------------------+\n",
      "|        Great|11442| 0.2254954514638876|\n",
      "|         good|11147|0.21968168130291515|\n",
      "|         Good| 9692|0.19100698440727135|\n",
      "|        great| 9287| 0.1830253677455973|\n",
      "|   Delicious!| 8021|0.15807542529206806|\n",
      "|    Delicious| 7309|0.14404354612389045|\n",
      "|    Excellent| 6007|0.11838412663376795|\n",
      "|      Love it| 5631|0.11097403314046068|\n",
      "|Great product| 5155|0.10159317010106106|\n",
      "|        Yummy| 4945|0.09745455405426712|\n",
      "+-------------+-----+-------------------+\n",
      "only showing top 10 rows\n",
      "\n",
      "\n",
      "Summary of Review (summary)\n",
      "2181743 unique values\n",
      "+-----------+-------+-------------------+\n",
      "|    summary|  count|         percentage|\n",
      "+-----------+-------+-------------------+\n",
      "| Five Stars|1139799|  22.46281157866524|\n",
      "| Four Stars| 148840|  2.933293392403866|\n",
      "|   One Star|  79418|  1.565145758115629|\n",
      "|Three Stars|  74666| 1.4714947892853203|\n",
      "|  Two Stars|  43992| 0.8669809387169501|\n",
      "|  Delicious|  19582|0.38591609251580555|\n",
      "| Delicious!|  15574|0.30692764910842385|\n",
      "|      Yummy|  14312| 0.2820565374367383|\n",
      "|      Great|  11150| 0.2197408043892979|\n",
      "|     Yummy!|  10380| 0.2045658788843868|\n",
      "+-----------+-------+-------------------+\n",
      "only showing top 10 rows\n",
      "\n",
      "\n",
      "Review Date (reviewTime)\n",
      "5221 unique values\n",
      "+-----------+-----+-------------------+\n",
      "| reviewTime|count|         percentage|\n",
      "+-----------+-----+-------------------+\n",
      "| 03 1, 2016| 6609|0.13024815930124395|\n",
      "|01 25, 2018| 5664|0.11162438709067116|\n",
      "|01 20, 2016| 5162|0.10173112396928753|\n",
      "|07 20, 2017| 5021| 0.0989523389092973|\n",
      "|07 14, 2016| 4958|0.09771075409525912|\n",
      "|04 21, 2016| 4779| 0.0941830766077538|\n",
      "| 01 3, 2017| 4770|0.09400570734860549|\n",
      "|02 22, 2016| 4719|0.09300061488009838|\n",
      "|02 18, 2016| 4658|0.09179844545698204|\n",
      "| 06 3, 2015| 4562|0.08990650669273338|\n",
      "+-----------+-----+-------------------+\n",
      "only showing top 10 rows\n",
      "\n",
      "\n",
      "Verified User (verified)\n",
      "2 unique values\n",
      "+--------+-------+------------------+\n",
      "|verified|  count|        percentage|\n",
      "+--------+-------+------------------+\n",
      "|    true|4437360| 87.45013953048387|\n",
      "|   false| 636800|12.549860469516135|\n",
      "+--------+-------+------------------+\n",
      "\n"
     ]
    }
   ],
   "source": [
    "## asin - product ID \n",
    "print(\"Statistical Summaries of Predictor Variables:\")\n",
    "print(f\"Product ID (asin)\")\n",
    "print(f\"{food.groupby(food.asin).count().count()} unique asin values\")\n",
    "food.groupby(food.asin).agg(F.count(food.asin).alias(\"count\"), ((F.count(food.asin)/food.count())*100).alias(\"percentage\")).sort(F.desc(\"count\")).show(10)\n",
    "\n",
    "## reviewerID - reviewer ID \n",
    "print(f\"\\nReviewer ID (reviewerID)\")\n",
    "print(f\"{food.groupby(food.reviewerID).count().count()} unique values\")\n",
    "food.groupby(food.reviewerID).agg(F.count(food.reviewerID).alias(\"count\"), (F.count(food.reviewerID)/food.count()*100).alias(\"percentage\")).sort(F.desc(\"count\")).show(10)\n",
    "\n",
    "## reviewText - review text\n",
    "print(f\"\\nReview Text (reviewText)\")\n",
    "print(f\"{food.groupby(food.reviewText).count().count()} unique values\")\n",
    "food.groupby(food.reviewText).agg(F.count(food.reviewText).alias(\"count\"), (F.count(food.reviewText)/food.count()*100).alias(\"percentage\")).sort(F.desc(\"count\")).show(10)\n",
    "\n",
    "## summary - summary of review\n",
    "print(f\"\\nSummary of Review (summary)\")\n",
    "print(f\"{food.groupby(food['summary']).count().count()} unique values\")\n",
    "food.groupby(food['summary']).agg(F.count(food['summary']).alias(\"count\"), (F.count(food['summary'])/food.count()*100).alias(\"percentage\")).sort(F.desc(\"count\")).show(10)\n",
    "\n",
    "## reviewTime\n",
    "print(f\"\\nReview Date (reviewTime)\")\n",
    "print(f\"{food.groupby(food.reviewTime).count().count()} unique values\")\n",
    "food.groupby(food.reviewTime).agg(F.count(food.reviewTime).alias(\"count\"), (F.count(food.reviewTime)/food.count()*100).alias(\"percentage\")).sort(F.desc(\"count\")).show(10)\n",
    "\n",
    "## verified - verified user\n",
    "print(f\"\\nVerified User (verified)\")\n",
    "print(f\"{food.groupby(food.verified).count().count()} unique values\")\n",
    "food.groupby(food.verified).agg(F.count(food.verified).alias(\"count\"), (F.count(food.verified)/food.count()*100).alias(\"percentage\")).sort(F.desc(\"count\")).show(10)"
   ]
  },
  {
   "cell_type": "markdown",
   "metadata": {},
   "source": [
    "## Graphical Summary"
   ]
  },
  {
   "cell_type": "code",
   "execution_count": 7,
   "metadata": {},
   "outputs": [
    {
     "data": {
      "image/png": "[encoded data removed]",
      "text/plain": [
       "<Figure size 720x360 with 1 Axes>"
      ]
     },
     "metadata": {
      "needs_background": "light"
     },
     "output_type": "display_data"
    }
   ],
   "source": [
    "## Distribution of review stars \n",
    "## Group the dataframe by rating and convert to a pandas dataframe\n",
    "Overall_scores = food.groupby(food.overall).count()\n",
    "Overall_scores_df = Overall_scores.toPandas()\n",
    "\n",
    "## Create a bar plot\n",
    "fig = plt.figure(figsize = (10, 5))\n",
    "plt.bar(Overall_scores_df['overall'], \n",
    "        Overall_scores_df['count'], \n",
    "        color ='maroon', \n",
    "        width = 0.4)\n",
    "plt.xlabel(\"Overall Star Rating\")\n",
    "plt.ylabel(\"Count of Star Rating\")\n",
    "plt.title(\"Count of Reviews by Start Rating\")\n",
    "plt.show()"
   ]
  },
  {
   "cell_type": "code",
   "execution_count": 8,
   "metadata": {},
   "outputs": [
    {
     "data": {
      "image/png": "[encoded data removed]",
      "text/plain": [
       "<Figure size 720x360 with 1 Axes>"
      ]
     },
     "metadata": {
      "needs_background": "light"
     },
     "output_type": "display_data"
    }
   ],
   "source": [
    "## Number of Reviews per Reviewer\n",
    "## Groupby reviewer ID, then get average rating for that reviewer and their number of reviews \n",
    "## Then convert to pandas dataframe ans sort values \n",
    "reviewer_count = food.groupBy('reviewerID').agg(F.avg('overall'), F.count('overall'))\n",
    "reviewer_count = reviewer_count.toPandas()\n",
    "reviewer_count = reviewer_count.sort_values(by = ['count(overall)'], ascending = False)\n",
    "\n",
    "## Create histogram\n",
    "fig, ax = plt.subplots(figsize = (10, 5)) \n",
    "ax.hist(reviewer_count['count(overall)'], bins = [0, 25, 50, 75, 100, 200, 400, 600]) \n",
    "plt.xlabel(\"Number of Reviews per Reviewer\")\n",
    "plt.ylabel(\"Log Count of Reviewers\")\n",
    "plt.title(\"Log Count of Reviewers by Number of Reviews\")\n",
    "plt.yscale('log', nonposy = 'clip')\n",
    "plt.show()"
   ]
  },
  {
   "cell_type": "code",
   "execution_count": 9,
   "metadata": {},
   "outputs": [
    {
     "name": "stderr",
     "output_type": "stream",
     "text": [
      "/home/mes7jt/.local/lib/python3.7/site-packages/seaborn/distributions.py:2557: FutureWarning: `distplot` is a deprecated function and will be removed in a future version. Please adapt your code to use either `displot` (a figure-level function with similar flexibility) or `histplot` (an axes-level function for histograms).\n",
      "  warnings.warn(msg, FutureWarning)\n"
     ]
    },
    {
     "data": {
      "image/png": "[encoded data removed]",
      "text/plain": [
       "<Figure size 720x360 with 1 Axes>"
      ]
     },
     "metadata": {
      "needs_background": "light"
     },
     "output_type": "display_data"
    }
   ],
   "source": [
    "## KDE/Histogram of Product Average Rating\n",
    "## Group by product ID and obtain average rating\n",
    "## Then convert to pandas dataframe\n",
    "prods = food.groupBy(\"asin\").agg(F.avg(\"overall\"))\n",
    "df = prods.toPandas()\n",
    "\n",
    "## kde/histogram of product average rating\n",
    "plt.figure(figsize = (10, 5))\n",
    "sns.distplot(df[\"avg(overall)\"], kde = True)\n",
    "plt.ylabel('Frequency')\n",
    "plt.xlabel('Average Rating per Rating')\n",
    "plt.title('Distribution of Average Rating per Product');"
   ]
  },
  {
   "cell_type": "code",
   "execution_count": 10,
   "metadata": {},
   "outputs": [
    {
     "data": {
      "image/png": "[encoded data removed]",
      "text/plain": [
       "<Figure size 720x360 with 1 Axes>"
      ]
     },
     "metadata": {
      "needs_background": "light"
     },
     "output_type": "display_data"
    }
   ],
   "source": [
    "## How long are the reviews?\n",
    "## Count number of words in the review\n",
    "num_words = food.select(F.size(F.split(F.col(\"reviewText\"), \" \")).alias(\"num_words\"))\n",
    "\n",
    "## Groupby num_words and get count\n",
    "grouped_num_words = num_words.groupby(\"num_words\").count()\n",
    "\n",
    "## Convert to pandas for plotting\n",
    "num_words_df = grouped_num_words.toPandas()\n",
    "\n",
    "## Plot using histogram\n",
    "fig = plt.figure(figsize = (10, 5))\n",
    "plt.hist(num_words_df[\"num_words\"], bins = 100)\n",
    "plt.xlabel(\"Number of Words in Review\")\n",
    "plt.ylabel(\"Count of Reviews\")\n",
    "plt.title(\"Count of Reviews by Number of Words in Review\")\n",
    "plt.show()"
   ]
  },
  {
   "cell_type": "code",
   "execution_count": 11,
   "metadata": {},
   "outputs": [
    {
     "data": {
      "image/png": "[encoded data removed]",
      "text/plain": [
       "<Figure size 720x360 with 1 Axes>"
      ]
     },
     "metadata": {
      "needs_background": "light"
     },
     "output_type": "display_data"
    }
   ],
   "source": [
    "## How long are the review summaries?\n",
    "## Count number of words in the review\n",
    "num_words_sum = food.select(F.size(F.split(F.col(\"summary\"), \" \")).alias(\"num_words\"))\n",
    "\n",
    "## Groupby num_words and get count\n",
    "grouped_num_words_sum = num_words_sum.groupby(\"num_words\").count()\n",
    "\n",
    "## Convert to pandas for plotting\n",
    "num_words_sum_df = grouped_num_words_sum.toPandas()\n",
    "\n",
    "## Plot using histogram\n",
    "fig = plt.figure(figsize = (10, 5))\n",
    "plt.hist(num_words_sum_df[\"num_words\"], bins = 20)\n",
    "plt.xlabel(\"Number of Words in Review Summary\")\n",
    "plt.ylabel(\"Count of Reviews\")\n",
    "plt.title(\"Count of Reviews by Number of Words in Review Summary\")\n",
    "plt.show()"
   ]
  },
  {
   "cell_type": "markdown",
   "metadata": {},
   "source": [
    "# Data Preprocessing"
   ]
  },
  {
   "cell_type": "code",
   "execution_count": 4,
   "metadata": {},
   "outputs": [
    {
     "name": "stdout",
     "output_type": "stream",
     "text": [
      "5071277\n"
     ]
    },
    {
     "data": {
      "text/plain": [
       "[Row(reviewText='Very pleased with my purchase. Looks exactly like the picture and will look great on my cake. It definitely will sparkle.', overall=5.0)]"
      ]
     },
     "execution_count": 4,
     "metadata": {},
     "output_type": "execute_result"
    }
   ],
   "source": [
    "## For our models, we will only be using the review text and the rating\n",
    "flatten_amazon = amazon_food.select(['reviewText', 'overall'])\n",
    "\n",
    "## Remove NA values\n",
    "notnull_amazon = flatten_amazon.na.drop(subset=['reviewText', 'overall'])\n",
    "\n",
    "## How many observations do we have now?\n",
    "print(notnull_amazon.count())\n",
    "\n",
    "## What does an observation look like?\n",
    "notnull_amazon.take(1)"
   ]
  },
  {
   "cell_type": "code",
   "execution_count": 5,
   "metadata": {},
   "outputs": [
    {
     "name": "stdout",
     "output_type": "stream",
     "text": [
      "+--------------------+------+\n",
      "|          reviewText|target|\n",
      "+--------------------+------+\n",
      "|Very pleased with...|     1|\n",
      "|Very nicely craft...|     1|\n",
      "|still very pretty...|     1|\n",
      "|I got this for ou...|     1|\n",
      "|It was just what ...|     1|\n",
      "+--------------------+------+\n",
      "only showing top 5 rows\n",
      "\n"
     ]
    }
   ],
   "source": [
    "## Change rating to a binary classification\n",
    "## 1 = Positive\n",
    "## 0 = Negative\n",
    "## Chose to make 3 negative, because the user typically would not recommend a neutral product\n",
    "def vibe(num):\n",
    "    if num > 3.0:\n",
    "        return 1\n",
    "    else:\n",
    "        return 0\n",
    "    \n",
    "## Create a spark function\n",
    "func_udf = F.udf(vibe, IntegerType())\n",
    "\n",
    "## Apply the binarization to our data\n",
    "## Only keep the review text and the binary classification\n",
    "data = notnull_amazon.withColumn('target', func_udf(col('overall'))).select(['reviewText', 'target'])\n",
    "\n",
    "## What does the new data look like?\n",
    "data.show(5)"
   ]
  },
  {
   "cell_type": "code",
   "execution_count": 6,
   "metadata": {},
   "outputs": [
    {
     "name": "stdout",
     "output_type": "stream",
     "text": [
      "+------+-------+\n",
      "|target|  count|\n",
      "+------+-------+\n",
      "|     1|4124647|\n",
      "|     0| 946630|\n",
      "+------+-------+\n",
      "\n"
     ]
    }
   ],
   "source": [
    "## How many positive and negative values do we have?\n",
    "data.groupby('target').count().show()"
   ]
  },
  {
   "cell_type": "code",
   "execution_count": 7,
   "metadata": {},
   "outputs": [
    {
     "name": "stdout",
     "output_type": "stream",
     "text": [
      "+--------------------+------+\n",
      "|         reviewClean|target|\n",
      "+--------------------+------+\n",
      "|very pleased with...|     1|\n",
      "|very nicely craft...|     1|\n",
      "|still very pretty...|     1|\n",
      "|i got this for ou...|     1|\n",
      "|it was just what ...|     1|\n",
      "+--------------------+------+\n",
      "only showing top 5 rows\n",
      "\n"
     ]
    }
   ],
   "source": [
    "## Remove punctuation and convert the review text to lower case\n",
    "## https://stackoverflow.com/questions/53218312/pyspark-how-to-remove-punctuation-marks-and-make-lowercase-letters-in-rdd\n",
    "def lower_clean_str(x):    \n",
    "    ## Convert string to lowercase\n",
    "    lowercased_str = x.lower()\n",
    "    \n",
    "    ## Create a string of punctuation\n",
    "    punc='!\"#$%&\\'()*+,-./:;<=>?@[\\\\]^_`{|}~'\n",
    "    \n",
    "    ## Remove punctuation from the string\n",
    "    for ch in punc:\n",
    "        lowercased_str = lowercased_str.replace(ch, '')\n",
    "    return lowercased_str\n",
    "\n",
    "## Apply the function to our dataset\n",
    "lower_func = F.udf(lower_clean_str, StringType())\n",
    "data = data.withColumn('reviewClean', lower_func(col('reviewText')))\n",
    "\n",
    "## Trim white space off the ends of the review\n",
    "## https://analyticshut.com/removing-white-spaces-in-spark/\n",
    "data = data.select(trim(col(\"reviewClean\")).alias(\"reviewClean\"), \"target\")\n",
    "\n",
    "## Show the data\n",
    "data.show(5)"
   ]
  },
  {
   "cell_type": "markdown",
   "metadata": {},
   "source": [
    "# Split the Data"
   ]
  },
  {
   "cell_type": "code",
   "execution_count": 8,
   "metadata": {},
   "outputs": [],
   "source": [
    "(train_set, test_set) = data.randomSplit([0.90, 0.10], seed = 314)"
   ]
  },
  {
   "cell_type": "code",
   "execution_count": 9,
   "metadata": {},
   "outputs": [
    {
     "name": "stdout",
     "output_type": "stream",
     "text": [
      "+-----------+------+-----+--------+--------------------+--------------------+\n",
      "|reviewClean|target|words|filtered|                  tf|            features|\n",
      "+-----------+------+-----+--------+--------------------+--------------------+\n",
      "|           |     0|   []|      []|(65536,[52572],[1...|(65536,[52572],[1...|\n",
      "|           |     0|   []|      []|(65536,[52572],[1...|(65536,[52572],[1...|\n",
      "|           |     0|   []|      []|(65536,[52572],[1...|(65536,[52572],[1...|\n",
      "|           |     1|   []|      []|(65536,[52572],[1...|(65536,[52572],[1...|\n",
      "|           |     1|   []|      []|(65536,[52572],[1...|(65536,[52572],[1...|\n",
      "+-----------+------+-----+--------+--------------------+--------------------+\n",
      "only showing top 5 rows\n",
      "\n"
     ]
    }
   ],
   "source": [
    "## Tokenize the data\n",
    "tokenizer = Tokenizer(inputCol=\"reviewClean\", outputCol=\"words\")\n",
    "\n",
    "## Remove stop words\n",
    "remover = StopWordsRemover(inputCol=\"words\", outputCol=\"filtered\")\n",
    "\n",
    "## Get term frequency\n",
    "hashtf = HashingTF(numFeatures=2**16, inputCol=\"filtered\", outputCol='tf')\n",
    "\n",
    "## Get the inverse document frequency\n",
    "idf = IDF(inputCol='tf', outputCol=\"features\", minDocFreq=5)\n",
    "\n",
    "## Create a pipeline for TF-IDF\n",
    "pipeline = Pipeline(stages=[tokenizer, remover, hashtf, idf])\n",
    "\n",
    "## Fit the pipeline on the date\n",
    "pipelineFit = pipeline.fit(train_set)\n",
    "train_df = pipelineFit.transform(train_set)\n",
    "test_df = pipelineFit.transform(test_set)\n",
    "train_df.show(5)"
   ]
  },
  {
   "cell_type": "code",
   "execution_count": 10,
   "metadata": {},
   "outputs": [
    {
     "name": "stdout",
     "output_type": "stream",
     "text": [
      "+--------------------+--------------------+--------------------+--------------------+------+\n",
      "|         reviewClean|               words|                  tf|            features|target|\n",
      "+--------------------+--------------------+--------------------+--------------------+------+\n",
      "|\n",
      "\n",
      "3599 with free ...|[3599, with, free...|(65536,[614,1930,...|(65536,[614,1930,...|     1|\n",
      "|\n",
      "\n",
      "celestial seaso...|[celestial, seaso...|(65536,[48,86,614...|(65536,[48,86,614...|     1|\n",
      "|\n",
      "\n",
      "celestial seaso...|[celestial, seaso...|(65536,[809,908,1...|(65536,[809,908,1...|     1|\n",
      "|\n",
      "\n",
      "celestial seaso...|[celestial, seaso...|(65536,[809,908,1...|(65536,[809,908,1...|     1|\n",
      "|\n",
      "\n",
      "dry desert lime...|[dry, desert, lim...|(65536,[2026,2502...|(65536,[2026,2502...|     1|\n",
      "+--------------------+--------------------+--------------------+--------------------+------+\n",
      "only showing top 5 rows\n",
      "\n"
     ]
    }
   ],
   "source": [
    "## Filter to obtain rows that are not empty\n",
    "## The empty lists are actually [''], so we need to convert this to [], then can remove empty lists\n",
    "## https://stackoverflow.com/questions/64355465/remove-empty-strings-from-list-in-dataframe-column\n",
    "## https://stackoverflow.com/questions/55461843/filter-only-not-empty-arrays-dataframe-spark\n",
    "train_df = train_df.withColumn(\"words\", expr(\"filter(words, elem -> elem != '')\")).filter(size(\"words\") > 0).select(['reviewClean', 'words', 'tf', 'features', 'target'])\n",
    "test_df = test_df.withColumn(\"words\", expr(\"filter(words, elem -> elem != '')\")).filter(size(\"words\") > 0).select(['reviewClean', 'words', 'tf', 'features', 'target'])\n",
    "\n",
    "## If you want to see the entire column, you can do train_df.show(5, False)\n",
    "train_df.show(5)"
   ]
  },
  {
   "cell_type": "code",
   "execution_count": 11,
   "metadata": {},
   "outputs": [
    {
     "name": "stdout",
     "output_type": "stream",
     "text": [
      "+------+------+\n",
      "|target| count|\n",
      "+------+------+\n",
      "|     1|852456|\n",
      "|     0|851570|\n",
      "+------+------+\n",
      "\n"
     ]
    }
   ],
   "source": [
    "## Downsample training only\n",
    "def downsample(df, target, positive_label, negative_label):\n",
    "    \"\"\"\n",
    "    df              spark dataframe\n",
    "    target          str, target variable\n",
    "    positive_label  int, value of positive label\n",
    "    negative_label  int, value of negative label\n",
    "    \"\"\"\n",
    "    pos_c = df.filter(col(target) == positive_label).count()\n",
    "    neg_c = df.filter(col(target) == negative_label).count()\n",
    "    if pos_c >= neg_c:\n",
    "        pos = neg_c/pos_c\n",
    "        df_b = df.sampleBy(target, fractions={negative_label:1.0, positive_label:pos}, seed=314)\n",
    "    else:\n",
    "        neg = pos_c/neg_c\n",
    "        df_b = df.sampleBy(target, fractions={negative_label:neg, positive_label:1.0}, seed=314)\n",
    "    return df_b\n",
    "\n",
    "## Apply downsampling to our dataset\n",
    "target = 'target'\n",
    "positive_label = 1\n",
    "negative_label = 0\n",
    "train_df = downsample(train_df, target, positive_label, negative_label)\n",
    "train_df.groupby('target').count().show()"
   ]
  },
  {
   "cell_type": "code",
   "execution_count": 12,
   "metadata": {},
   "outputs": [],
   "source": [
    "## When response was not called 'label', we got an error during model construction\n",
    "train_df = train_df.withColumnRenamed('target', 'label')\n",
    "test_df = test_df.withColumnRenamed('target', 'label')"
   ]
  },
  {
   "cell_type": "markdown",
   "metadata": {},
   "source": [
    "# Model Construction and Evaluation\n",
    "\n",
    "In this section, we will construct three models, a logistic regression model, random forest classifier, and gradient boosted tree classifier. We chose not to use pyspark.mllib.evaluation.MulticlassMetrics to obtain the accuracy, precision, recall, and f1 measure because it only printed out accuracy instead of printing precision, recall, and f1. Instead, we calculate these metrics directly from the confusion matrix."
   ]
  },
  {
   "cell_type": "markdown",
   "metadata": {},
   "source": [
    "## Logistic Regression"
   ]
  },
  {
   "cell_type": "markdown",
   "metadata": {},
   "source": [
    "### First Implementation of Logistic Regression"
   ]
  },
  {
   "cell_type": "code",
   "execution_count": 26,
   "metadata": {},
   "outputs": [],
   "source": [
    "from pyspark.ml.classification import LogisticRegression\n",
    "import time\n",
    "t0 = time.time()\n",
    "\n",
    "## Fit a logistic regression model on the training data\n",
    "lr = LogisticRegression(featuresCol = 'features',\n",
    "                        labelCol = 'label',\n",
    "                        maxIter = 100)\n",
    "lrModel = lr.fit(train_df)\n",
    "\n",
    "## Create predictions on the test set\n",
    "lr_predictions = lrModel.transform(test_df)\n",
    "\n",
    "## Convert these predictions to an rdd\n",
    "lr_predictions = lr_predictions.select(['label', 'prediction']).rdd.map(tuple).map(lambda x: (float(x[1]), float(x[0])))"
   ]
  },
  {
   "cell_type": "code",
   "execution_count": 27,
   "metadata": {},
   "outputs": [
    {
     "name": "stdout",
     "output_type": "stream",
     "text": [
      "Confusion Matrix: \n",
      "[[ 80819.  14180.]\n",
      " [ 52180. 359387.]]\n",
      "Accuracy: 0.8690002882151585\n",
      "Precision: 0.9620416150248817\n",
      "Recall: 0.8732162685540872\n",
      "F1 Measure: 0.9154793958738252\n",
      "Logistic regression time: 353.5326597690582\n"
     ]
    }
   ],
   "source": [
    "## Obtain metrics for the logistic regression model\n",
    "lr_metrics = MulticlassMetrics(lr_predictions)\n",
    "\n",
    "## Confusion Matrix\n",
    "lr_cm = lr_metrics.confusionMatrix().toArray()\n",
    "print(f\"Confusion Matrix: \\n{lr_cm}\")\n",
    "\n",
    "## Confusion matrix cells\n",
    "tn = lr_cm[0][0]\n",
    "fp = lr_cm[0][1]\n",
    "fn = lr_cm[1][0]\n",
    "tp = lr_cm[1][1]\n",
    "total = tn + fp + fn + tp\n",
    "\n",
    "## Accuracy\n",
    "lr_accuracy = (tp + tn)/(total)\n",
    "print(f\"Accuracy: {lr_accuracy}\")\n",
    "\n",
    "## Precision\n",
    "lr_precision = tp / (tp + fp)\n",
    "print(f\"Precision: {lr_precision}\")\n",
    "\n",
    "## Recall\n",
    "lr_recall = tp / (tp + fn)\n",
    "print(f\"Recall: {lr_recall}\")\n",
    "\n",
    "## F1\n",
    "lr_f1 = 2*(lr_precision*lr_recall)/(lr_precision+lr_recall)\n",
    "print(f\"F1 Measure: {lr_f1}\")\n",
    "\n",
    "## Print time it took to run logistic regression section\n",
    "print(\"Logistic regression time:\", time.time() - t0)"
   ]
  },
  {
   "cell_type": "markdown",
   "metadata": {},
   "source": [
    "### Logistic Regression with CrossValidator"
   ]
  },
  {
   "cell_type": "code",
   "execution_count": 28,
   "metadata": {},
   "outputs": [
    {
     "name": "stdout",
     "output_type": "stream",
     "text": [
      "Train time: 1948.5248761177063\n"
     ]
    }
   ],
   "source": [
    "from pyspark.ml.tuning import CrossValidator, ParamGridBuilder\n",
    "from pyspark.ml.evaluation import BinaryClassificationEvaluator\n",
    "new_lr = LogisticRegression(featuresCol = 'features',\n",
    "                           labelCol = 'label',\n",
    "                           fitIntercept = True,\n",
    "                           maxIter = 100)\n",
    "\n",
    "paramGrid = ParamGridBuilder() \\\n",
    "    .addGrid(new_lr.regParam, [0.0, 0.01, 0.1]) \\\n",
    "    .addGrid(new_lr.threshold, [0.4, 0.5, 0.6]) \\\n",
    "    .build()\n",
    "\n",
    "crossval = CrossValidator(estimator=new_lr,\n",
    "                          estimatorParamMaps=paramGrid,\n",
    "                          evaluator=BinaryClassificationEvaluator(),\n",
    "                          numFolds=2)\n",
    "\n",
    "import time\n",
    "t0 = time.time()\n",
    "cvModel = crossval.setParallelism(4).fit(train_df) # train 4 models in parallel\n",
    "print(\"Train time:\", time.time() - t0)"
   ]
  },
  {
   "cell_type": "code",
   "execution_count": 33,
   "metadata": {},
   "outputs": [
    {
     "name": "stdout",
     "output_type": "stream",
     "text": [
      "Confusion Matrix: \n",
      "[[ 67156.  27843.]\n",
      " [ 23309. 388258.]]\n",
      "Accuracy: 0.8990220425373989\n",
      "Precision: 0.9330859574958964\n",
      "Recall: 0.9433652357939291\n",
      "F1 Measure: 0.9381974414861998\n"
     ]
    }
   ],
   "source": [
    "## Create predictions on the test set\n",
    "lr_predictions = cvModel.bestModel.transform(test_df)\n",
    "\n",
    "## Convert these predictions to an rdd\n",
    "lr_predictions = lr_predictions.select(['label', 'prediction']).rdd.map(tuple).map(lambda x: (float(x[1]), float(x[0])))\n",
    "\n",
    "## Obtain metrics for the logistic regression model\n",
    "lr_metrics = MulticlassMetrics(lr_predictions)\n",
    "\n",
    "## Confusion Matrix\n",
    "lr_cm = lr_metrics.confusionMatrix().toArray()\n",
    "print(f\"Confusion Matrix: \\n{lr_cm}\")\n",
    "\n",
    "## Confusion matrix cells\n",
    "tn = lr_cm[0][0]\n",
    "fp = lr_cm[0][1]\n",
    "fn = lr_cm[1][0]\n",
    "tp = lr_cm[1][1]\n",
    "total = tn + fp + fn + tp\n",
    "\n",
    "## Accuracy\n",
    "lr_accuracy = (tp + tn)/(total)\n",
    "print(f\"Accuracy: {lr_accuracy}\")\n",
    "\n",
    "## Precision\n",
    "lr_precision = tp / (tp + fp)\n",
    "print(f\"Precision: {lr_precision}\")\n",
    "\n",
    "## Recall\n",
    "lr_recall = tp / (tp + fn)\n",
    "print(f\"Recall: {lr_recall}\")\n",
    "\n",
    "## F1\n",
    "lr_f1 = 2*(lr_precision*lr_recall)/(lr_precision+lr_recall)\n",
    "print(f\"F1 Measure: {lr_f1}\")"
   ]
  },
  {
   "cell_type": "code",
   "execution_count": 34,
   "metadata": {},
   "outputs": [
    {
     "name": "stdout",
     "output_type": "stream",
     "text": [
      "0.1\n",
      "0.4\n"
     ]
    }
   ],
   "source": [
    "print(cvModel.bestModel._java_obj.getRegParam())\n",
    "print(cvModel.bestModel._java_obj.getThreshold())"
   ]
  },
  {
   "cell_type": "markdown",
   "metadata": {},
   "source": [
    "## Random Forest Classifier"
   ]
  },
  {
   "cell_type": "markdown",
   "metadata": {},
   "source": [
    "### First Implementation of Random Forest"
   ]
  },
  {
   "cell_type": "code",
   "execution_count": 35,
   "metadata": {},
   "outputs": [],
   "source": [
    "from pyspark.ml.classification import RandomForestClassifier\n",
    "t0 = time.time()\n",
    "\n",
    "## Fit a random forest classifier\n",
    "rf = RandomForestClassifier(featuresCol = 'features', labelCol = 'label')\n",
    "rfModel = rf.fit(train_df)\n",
    "\n",
    "## Create predictions on the test set\n",
    "rf_predictions = rfModel.transform(test_df)\n",
    "\n",
    "## Convert these predictions to an rdd\n",
    "rf_predictions = rf_predictions.select(['label', 'prediction']).rdd.map(tuple).map(lambda x: (float(x[1]), float(x[0])))"
   ]
  },
  {
   "cell_type": "code",
   "execution_count": 36,
   "metadata": {},
   "outputs": [
    {
     "name": "stdout",
     "output_type": "stream",
     "text": [
      "Confusion Matrix: \n",
      "[[ 54671.  40328.]\n",
      " [ 85159. 326408.]]\n",
      "Accuracy: 0.752279071236522\n",
      "Precision: 0.8900353387723049\n",
      "Recall: 0.7930859374050884\n",
      "F1 Measure: 0.8387684487917946\n",
      "Random forest time: 1498.8579785823822\n"
     ]
    }
   ],
   "source": [
    "## Obtain metrics for the logistic regression model\n",
    "rf_metrics = MulticlassMetrics(rf_predictions)\n",
    "\n",
    "## Confusion Matrix\n",
    "rf_cm = rf_metrics.confusionMatrix().toArray()\n",
    "print(f\"Confusion Matrix: \\n{rf_cm}\")\n",
    "\n",
    "## Confusion matrix cells\n",
    "tn = rf_cm[0][0]\n",
    "fp = rf_cm[0][1]\n",
    "fn = rf_cm[1][0]\n",
    "tp = rf_cm[1][1]\n",
    "total = tn + fp + fn + tp\n",
    "\n",
    "## Accuracy\n",
    "rf_accuracy = (tp + tn)/(total)\n",
    "print(f\"Accuracy: {rf_accuracy}\")\n",
    "\n",
    "## Precision\n",
    "rf_precision = tp / (tp + fp)\n",
    "print(f\"Precision: {rf_precision}\")\n",
    "\n",
    "## Recall\n",
    "rf_recall = tp / (tp + fn)\n",
    "print(f\"Recall: {rf_recall}\")\n",
    "\n",
    "## F1\n",
    "rf_f1 = 2*(rf_precision*rf_recall)/(rf_precision+rf_recall)\n",
    "print(f\"F1 Measure: {rf_f1}\")\n",
    "\n",
    "## Print time it took to run random forest section\n",
    "print(\"Random forest time:\", time.time() - t0)"
   ]
  },
  {
   "cell_type": "markdown",
   "metadata": {},
   "source": [
    "### Random Forest with CrossValidator"
   ]
  },
  {
   "cell_type": "code",
   "execution_count": 13,
   "metadata": {},
   "outputs": [
    {
     "name": "stdout",
     "output_type": "stream",
     "text": [
      "Train time: 19720.568876743317\n"
     ]
    }
   ],
   "source": [
    "from pyspark.ml.tuning import CrossValidator, ParamGridBuilder\n",
    "from pyspark.ml.evaluation import BinaryClassificationEvaluator\n",
    "import time\n",
    "from pyspark.ml.classification import RandomForestClassifier\n",
    "new_rf = RandomForestClassifier(featuresCol = 'features',\n",
    "                           labelCol = 'label')\n",
    "\n",
    "paramGrid = ParamGridBuilder() \\\n",
    "    .addGrid(new_rf.maxDepth, [5, 8, 10]) \\\n",
    "    .addGrid(new_rf.numTrees, [10, 20, 30]) \\\n",
    "    .build()\n",
    "\n",
    "crossval = CrossValidator(estimator=new_rf,\n",
    "                          estimatorParamMaps=paramGrid,\n",
    "                          evaluator=BinaryClassificationEvaluator(),\n",
    "                          numFolds=2)\n",
    "\n",
    "import time\n",
    "t0 = time.time()\n",
    "cvModel = crossval.setParallelism(4).fit(train_df) # train 4 models in parallel\n",
    "print(\"Train time:\", time.time() - t0)"
   ]
  },
  {
   "cell_type": "code",
   "execution_count": 14,
   "metadata": {},
   "outputs": [
    {
     "name": "stdout",
     "output_type": "stream",
     "text": [
      "Confusion Matrix: \n",
      "[[ 59251.  35748.]\n",
      " [ 65401. 346166.]]\n",
      "Accuracy: 0.800324143349534\n",
      "Precision: 0.9063977754154077\n",
      "Recall: 0.8410927017958194\n",
      "F1 Measure: 0.8725249879959319\n"
     ]
    }
   ],
   "source": [
    "## Create predictions on the test set\n",
    "lr_predictions = cvModel.bestModel.transform(test_df)\n",
    "\n",
    "## Convert these predictions to an rdd\n",
    "lr_predictions = lr_predictions.select(['label', 'prediction']).rdd.map(tuple).map(lambda x: (float(x[1]), float(x[0])))\n",
    "\n",
    "## Obtain metrics for the logistic regression model\n",
    "lr_metrics = MulticlassMetrics(lr_predictions)\n",
    "\n",
    "## Confusion Matrix\n",
    "lr_cm = lr_metrics.confusionMatrix().toArray()\n",
    "print(f\"Confusion Matrix: \\n{lr_cm}\")\n",
    "\n",
    "## Confusion matrix cells\n",
    "tn = lr_cm[0][0]\n",
    "fp = lr_cm[0][1]\n",
    "fn = lr_cm[1][0]\n",
    "tp = lr_cm[1][1]\n",
    "total = tn + fp + fn + tp\n",
    "\n",
    "## Accuracy\n",
    "lr_accuracy = (tp + tn)/(total)\n",
    "print(f\"Accuracy: {lr_accuracy}\")\n",
    "\n",
    "## Precision\n",
    "lr_precision = tp / (tp + fp)\n",
    "print(f\"Precision: {lr_precision}\")\n",
    "\n",
    "## Recall\n",
    "lr_recall = tp / (tp + fn)\n",
    "print(f\"Recall: {lr_recall}\")\n",
    "\n",
    "## F1\n",
    "lr_f1 = 2*(lr_precision*lr_recall)/(lr_precision+lr_recall)\n",
    "print(f\"F1 Measure: {lr_f1}\")"
   ]
  },
  {
   "cell_type": "code",
   "execution_count": 16,
   "metadata": {},
   "outputs": [
    {
     "name": "stdout",
     "output_type": "stream",
     "text": [
      "10\n",
      "30\n"
     ]
    }
   ],
   "source": [
    "print(cvModel.bestModel._java_obj.getMaxDepth())\n",
    "print(cvModel.bestModel._java_obj.getNumTrees())"
   ]
  },
  {
   "cell_type": "markdown",
   "metadata": {},
   "source": [
    "## Gradient Boosted Tree (GBT) Classifier"
   ]
  },
  {
   "cell_type": "code",
   "execution_count": null,
   "metadata": {},
   "outputs": [],
   "source": [
    "from pyspark.ml.classification import GBTClassifier\n",
    "import time\n",
    "t0 = time.time()\n",
    "\n",
    "## Fit a gradient boosted tree classifier\n",
    "gbt = GBTClassifier(maxDepth = 5, maxIter = 20)\n",
    "gbtModel = gbt.fit(train_df)\n",
    "\n",
    "## Create predictions on the test set\n",
    "gbt_predictions = gbtModel.transform(test_df)\n",
    "\n",
    "## Convert these predictions to an rdd\n",
    "gbt_predictions = gbt_predictions.select(['label', 'prediction']).rdd.map(tuple).map(lambda x: (float(x[1]), float(x[0])))"
   ]
  },
  {
   "cell_type": "code",
   "execution_count": null,
   "metadata": {},
   "outputs": [],
   "source": [
    "## Obtain metrics for the logistic regression model\n",
    "gbt_metrics = MulticlassMetrics(gbt_predictions)\n",
    "\n",
    "## Confusion Matrix\n",
    "gbt_cm = gbt_metrics.confusionMatrix().toArray()\n",
    "print(f\"Confusion Matrix: \\n{gbt_cm}\")\n",
    "\n",
    "## Confusion matrix cells\n",
    "tn = gbt_cm[0][0]\n",
    "fp = gbt_cm[0][1]\n",
    "fn = gbt_cm[1][0]\n",
    "tp = gbt_cm[1][1]\n",
    "total = tn + fp + fn + tp\n",
    "\n",
    "## Accuracy\n",
    "gbt_accuracy = (tp + tn)/(total)\n",
    "print(f\"Accuracy: {gbt_accuracy}\")\n",
    "\n",
    "## Precision\n",
    "gbt_precision = tp / (tp + fp)\n",
    "print(f\"Precision: {gbt_precision}\")\n",
    "\n",
    "## Recall\n",
    "gbt_recall = tp / (tp + fn)\n",
    "print(f\"Recall: {gbt_recall}\")\n",
    "\n",
    "## F1\n",
    "gbt_f1 = 2*(gbt_precision*gbt_recall)/(gbt_precision+gbt_recall)\n",
    "print(f\"F1 Measure: {gbt_f1}\")\n",
    "\n",
    "## Print time it took to run random forest section\n",
    "print(\"GBT time:\", time.time() - t0)"
   ]
  },
  {
   "cell_type": "markdown",
   "metadata": {},
   "source": [
    "**The code for GBT was run in a separate notebook but produced the following results:**\n",
    "\n",
    "**Confusion Matrix:**\n",
    "\n",
    " 82694   12305\n",
    " \n",
    "180484  231083\n",
    "\n",
    "\n",
    "\n",
    "**Accuracy:** 0.6194198\n",
    "\n",
    "**Precision:** 0.9494429\n",
    "\n",
    "**Recall:** 0.56147116\n",
    "\n",
    "**F1 Measure:** 0.70564543"
   ]
  },
  {
   "cell_type": "markdown",
   "metadata": {},
   "source": [
    "# Summary of Metrics"
   ]
  },
  {
   "cell_type": "markdown",
   "metadata": {},
   "source": [
    "|Metric|Accuracy|Recall|Precision|F1|\n",
    "|---|---|---|---|---|\n",
    "|**Logistic Regression**|0.899|0.943|0.933|0.938|\n",
    "|**Random Forest**|0.800|0.841|0.906|0.872|\n",
    "|**Gradient Boosted Trees**|0.619|0.561|0.949|0.706|"
   ]
  },
  {
   "cell_type": "code",
   "execution_count": null,
   "metadata": {},
   "outputs": [],
   "source": []
  }
 ],
 "metadata": {
  "kernelspec": {
   "display_name": "Python 3",
   "language": "python",
   "name": "python3"
  },
  "language_info": {
   "codemirror_mode": {
    "name": "ipython",
    "version": 3
   },
   "file_extension": ".py",
   "mimetype": "text/x-python",
   "name": "python",
   "nbconvert_exporter": "python",
   "pygments_lexer": "ipython3",
   "version": "3.8.5"
  }
 },
 "nbformat": 4,
 "nbformat_minor": 4
}
